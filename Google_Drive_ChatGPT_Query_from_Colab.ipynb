{
  "cells": [
    {
      "cell_type": "markdown",
      "metadata": {
        "id": "view-in-github",
        "colab_type": "text"
      },
      "source": [
        "<a href=\"https://colab.research.google.com/github/Walter-Haydock/OpenAI/blob/main/Google_Drive_ChatGPT_Query_from_Colab.ipynb\" target=\"_parent\"><img src=\"https://colab.research.google.com/assets/colab-badge.svg\" alt=\"Open In Colab\"/></a>"
      ]
    },
    {
      "cell_type": "markdown",
      "metadata": {
        "id": "JRPEQKMdWSgY"
      },
      "source": [
        "This script borrows heavily from this article: https://vasos-koupparis.com/build-a-chatbot-based-on-your-own-documents-with-chatgpt-step-by-step-guide/"
      ]
    },
    {
      "cell_type": "code",
      "execution_count": 1,
      "metadata": {
        "id": "GvpKEjtWBV_2"
      },
      "outputs": [],
      "source": [
        "# If you are in Google Colab, this will check to see if you have the right libraries installed. If not, they will be installed for you.\n",
        "try:\n",
        "  from llama_index import GPTSimpleVectorIndex, Document, SimpleDirectoryReader\n",
        "except:\n",
        "  !pip install llama-index\n",
        "  from llama_index import GPTSimpleVectorIndex, Document, SimpleDirectoryReader\n",
        "  \n",
        "try:\n",
        "  import openai\n",
        "except:\n",
        "  !pip install openai\n",
        "  import openai\n",
        "\n",
        "try:\n",
        "  import docx\n",
        "except:\n",
        "  !pip install python-docx\n",
        "  import docx  "
      ]
    },
    {
      "cell_type": "code",
      "execution_count": 2,
      "metadata": {
        "id": "Zt9CXic6WBnU"
      },
      "outputs": [],
      "source": [
        "import os\n",
        "\n",
        "# Recommend using GPT-4 API Key, if available\n",
        "os.environ['OPENAI_API_KEY'] = REPLACE_WITH_OPENAI_API_KEY_IN_SINGLE_QUOTATION_MARKS"
      ]
    },
    {
      "cell_type": "code",
      "execution_count": 3,
      "metadata": {
        "id": "LQoYrSxhdJN3"
      },
      "outputs": [],
      "source": [
        "# Clearing out any files that exist and have the same names\n",
        "try:\n",
        "  os.remove('credentials.json')\n",
        "except:\n",
        "  pass\n",
        "\n",
        "try:\n",
        "  os.remove('client_secrets.json')\n",
        "except:\n",
        "  pass"
      ]
    },
    {
      "cell_type": "code",
      "execution_count": 18,
      "metadata": {
        "id": "CINxeVgsYWMP"
      },
      "outputs": [],
      "source": [
        "# Import google cloud credentials.\n",
        "# Read these document for how to create a \"Desktop App\" OAuth Client ID: https://developers.google.com/workspace/guides/create-credentials#desktop-app\n",
        "# When the \"choose files\" button appears, upload from your desktop\n",
        "from google.colab import files\n",
        "files.upload()"
      ]
    },
    {
      "cell_type": "code",
      "execution_count": 5,
      "metadata": {
        "id": "eIvDtZlLYfqf"
      },
      "outputs": [],
      "source": [
        "# Creating a copy of the credentials.json file\n",
        "!cp credentials.json client_secrets.json"
      ]
    },
    {
      "cell_type": "code",
      "execution_count": 6,
      "metadata": {
        "id": "0ka-p2sUWRuY"
      },
      "outputs": [],
      "source": [
        "# Read these docs for how to get your folder id: https://llamahub.ai/l/google_drive\n",
        "google_drive_folder_id = REPLACE_WITH_GOOGLE_DRIVE_FOLDER_ID_IN_SINGLE_QUOTATION_MARKS"
      ]
    },
    {
      "cell_type": "code",
      "execution_count": 7,
      "metadata": {
        "id": "oCNgjGxSWkvf"
      },
      "outputs": [],
      "source": [
        "from llama_index import download_loader\n",
        "GoogleDriveReader = download_loader(\"GoogleDriveReader\")\n",
        "loader = GoogleDriveReader()"
      ]
    },
    {
      "cell_type": "code",
      "source": [
        "# This script specifically extracts from Google Doc and Microsoft .docx files\n",
        "\n",
        "from google.colab import auth\n",
        "from oauth2client.client import GoogleCredentials\n",
        "from googleapiclient.discovery import build\n",
        "from googleapiclient.errors import HttpError\n",
        "import io\n",
        "from googleapiclient.http import MediaIoBaseDownload\n",
        "\n",
        "class GoogleDriveReader:\n",
        "\n",
        "    def __init__(self):\n",
        "        auth.authenticate_user()\n",
        "        self.creds = GoogleCredentials.get_application_default()\n",
        "        self.service = build('drive', 'v3', credentials=self.creds)\n",
        "\n",
        "    def load_data(self, folder_id=None, file_ids=None):\n",
        "        documents = []\n",
        "\n",
        "        if folder_id:\n",
        "            try:\n",
        "                query = f\"'{folder_id}' in parents and (mimeType='application/vnd.google-apps.document' or mimeType='application/vnd.openxmlformats-officedocument.wordprocessingml.document')\"\n",
        "                results = self.service.files().list(q=query, fields=\"nextPageToken, files(id, name, mimeType)\").execute()\n",
        "                items = results.get('files', [])\n",
        "\n",
        "                for item in items:\n",
        "                    file_id = item['id']\n",
        "                    file_name = item['name']\n",
        "                    mimeType = item['mimeType']\n",
        "\n",
        "                    if mimeType == 'application/vnd.google-apps.document':\n",
        "                        file_content = self.service.files().export(fileId=file_id, mimeType='text/plain').execute()\n",
        "                    else:\n",
        "                        request = self.service.files().get_media(fileId=file_id)\n",
        "                        file_content = io.BytesIO()\n",
        "                        downloader = MediaIoBaseDownload(file_content, request)\n",
        "                        done = False\n",
        "                        while done is False:\n",
        "                            status, done = downloader.next_chunk()\n",
        "                        file_content.seek(0)\n",
        "\n",
        "                    if isinstance(file_content, io.BytesIO):\n",
        "                        if file_name.endswith('.docx'):\n",
        "                            doc = docx.Document(file_content)\n",
        "                            content = \"\\n\".join([paragraph.text for paragraph in doc.paragraphs])\n",
        "                        else:\n",
        "                            content = file_content.read().decode('utf-8')\n",
        "                    else:\n",
        "                        content = file_content.decode('utf-8')\n",
        "\n",
        "                    documents.append({\"name\": file_name, \"content\": content})\n",
        "\n",
        "            except HttpError as error:\n",
        "                print(f'An error occurred: {error}')\n",
        "                return None\n",
        "\n",
        "        elif file_ids:\n",
        "            for file_id in file_ids:\n",
        "                try:\n",
        "                    file = self.service.files().get(fileId=file_id).execute()\n",
        "                    file_name = file['name']\n",
        "                    mimeType = file['mimeType']\n",
        "\n",
        "                    if mimeType == 'application/vnd.google-apps.document':\n",
        "                        file_content = self.service.files().export(fileId=file_id, mimeType='text/plain').execute()\n",
        "                    else:\n",
        "                        request = self.service.files().get_media(fileId=file_id)\n",
        "                        file_content = io.BytesIO()\n",
        "                        downloader = MediaIoBaseDownload(file_content, request)\n",
        "                        done = False\n",
        "                        while done is False:\n",
        "                            status, done = downloader.next_chunk()\n",
        "                        file_content.seek(0)\n",
        "\n",
        "                    documents.append({\"name\": file_name, \"content\": file_content.read().decode('utf-8')})\n",
        "\n",
        "                except HttpError as error:\n",
        "                    print(f'An error occurred: {error}')\n",
        "                    return None\n",
        "\n",
        "        return documents"
      ],
      "metadata": {
        "id": "d_sB5dpsH4-Q"
      },
      "execution_count": 8,
      "outputs": []
    },
    {
      "cell_type": "code",
      "execution_count": 9,
      "metadata": {
        "id": "izKi9dzabinF"
      },
      "outputs": [],
      "source": [
        "loader = GoogleDriveReader()\n",
        "\n",
        "# Load the folder by id\n",
        "loaded_documents = loader.load_data(folder_id=google_drive_folder_id)"
      ]
    },
    {
      "cell_type": "code",
      "source": [
        "documents = [Document(doc[\"content\"]) for doc in loaded_documents]"
      ],
      "metadata": {
        "id": "KRJ9KY97LHnL"
      },
      "execution_count": 10,
      "outputs": []
    },
    {
      "cell_type": "code",
      "execution_count": 11,
      "metadata": {
        "id": "b7OVhQ9Pb1Ic"
      },
      "outputs": [],
      "source": [
        "index = GPTSimpleVectorIndex.from_documents(documents)"
      ]
    },
    {
      "cell_type": "code",
      "source": [
        "# Save your index to a index.json file\n",
        "index.save_to_disk('index.json')\n",
        "\n",
        "# Load the index from your saved index.json file\n",
        "index = GPTSimpleVectorIndex.load_from_disk('index.json')"
      ],
      "metadata": {
        "id": "c6jHoz9QLF7H"
      },
      "execution_count": 12,
      "outputs": []
    },
    {
      "cell_type": "code",
      "source": [
        "# Querying the index\n",
        "response = index.query(\"What is the most interesting peice of information in this folder?\")\n",
        "print(response)"
      ],
      "metadata": {
        "id": "3S2DcDqVMjRl"
      },
      "execution_count": 17,
      "outputs": []
    }
  ],
  "metadata": {
    "colab": {
      "provenance": [],
      "authorship_tag": "ABX9TyNmRRTOAuGuuLYK6SuLz2rl",
      "include_colab_link": true
    },
    "kernelspec": {
      "display_name": "Python 3",
      "name": "python3"
    },
    "language_info": {
      "name": "python"
    }
  },
  "nbformat": 4,
  "nbformat_minor": 0
}